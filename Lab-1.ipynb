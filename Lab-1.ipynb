{
 "cells": [
  {
   "cell_type": "markdown",
   "id": "a3f3545f",
   "metadata": {},
   "source": [
    "# **Лабораторная работа №1. Первичный анализ набора данных (Pandas)** "
   ]
  },
  {
   "cell_type": "markdown",
   "id": "ebbe65ff",
   "metadata": {},
   "source": [
    "## **Задание.**\n",
    "<br>\n",
    "Реализуйте первичный анализ данных о фильмах. Для этого используйте набор данных <b>Dataset1.csv</b>. При выполнении задания выполните следующее.\n",
    "<br>\n",
    "1. Cформулируйте три гипотезы и проверьте правильность своих предположений, подробно поясняя как в приведенном выше проекте.\n",
    "<br>\n",
    "Чтобы иметь возможность сравнивать фильмы разных лет, необходимо будет преобразовать валовую и бюджетную стоимость в реальные суммы в долларах с точки зрения покупательной способности 2016 года. Для этого используйте индекс потребительских цен (Consumer Price Index, CPI) с поправкой на инфляцию (https://www.usinflationcalculator.com/inflation/consumer-price-index-and-annual-percent-changes-from-1913-to-2008/).\n",
    "<br>\n",
    "Посчитайте значения CPI за каждый год с 1913 по 2017 гг включительно. Используя <i>Калькулятор инфляции в США</i> в качестве источника и постройте DataFrame.\n",
    "<br>\n",
    "Пример кода представлен в файле <b>Задание.pdf</b>\n",
    "Полученную таблицу, содержащую CPI, экспортируйте в файл формата *.csv с именем  <font color=blue>Lab1_Фамилия_CPI</font>, например, <font color=blue><i>Lab1_Ivanov_CPI.csv</i></font>\n",
    "<br>\n",
    "<font color=green><u>Самостоятельно изучите команду экспорта датафрейма в файл CSV</u></font>:\n",
    "https://pandas.pydata.org/docs/reference/api/pandas.DataFrame.to_csv.html\n",
    "<br><br>\n",
    "2. Обработанный датафрейм экспортируйте в файл формата *.csv с именем  <font color=blue>Lab1_Фамилия_группа</font>, например, <font color=blue><i>Lab1_Ivanov_MO-221.csv</i></font>\n"
   ]
  },
  {
   "cell_type": "markdown",
   "id": "50e41762",
   "metadata": {},
   "source": [
    "## **Гипотезы**<br>\n",
    "1. Чем больше бюджет, тем выше оценки фильма.<br>\n",
    "2. У черно-белых фильмов в среднем бюджет меньше чем у цветных.<br>\n",
    "3. Средний рейтинг германских фильмов ниже, чем у киргизских"
   ]
  },
  {
   "cell_type": "markdown",
   "id": "7f604e26",
   "metadata": {},
   "source": [
    "## **Этап 1. Обзор данных**"
   ]
  },
  {
   "cell_type": "code",
   "execution_count": 84,
   "id": "8dcb324c-7ce1-4175-875e-2e38d603c5b2",
   "metadata": {},
   "outputs": [],
   "source": [
    "import pandas as pd"
   ]
  },
  {
   "cell_type": "code",
   "execution_count": 85,
   "id": "3c3ada36-c9c8-432a-be6d-671f6cbcf12e",
   "metadata": {},
   "outputs": [],
   "source": [
    "df = pd.read_csv(f'C:/Users/AlinaZ/Notebooks/data/Dataset1.csv')"
   ]
  },
  {
   "cell_type": "markdown",
   "id": "f932432b",
   "metadata": {},
   "source": [
    "Выведем первые 10 строк датафрейма:"
   ]
  },
  {
   "cell_type": "code",
   "execution_count": 86,
   "id": "1a16b6d9",
   "metadata": {},
   "outputs": [
    {
     "data": {
      "text/html": [
       "<div>\n",
       "<style scoped>\n",
       "    .dataframe tbody tr th:only-of-type {\n",
       "        vertical-align: middle;\n",
       "    }\n",
       "\n",
       "    .dataframe tbody tr th {\n",
       "        vertical-align: top;\n",
       "    }\n",
       "\n",
       "    .dataframe thead th {\n",
       "        text-align: right;\n",
       "    }\n",
       "</style>\n",
       "<table border=\"1\" class=\"dataframe\">\n",
       "  <thead>\n",
       "    <tr style=\"text-align: right;\">\n",
       "      <th></th>\n",
       "      <th>color</th>\n",
       "      <th>Director_Name</th>\n",
       "      <th>num_Critic_for_reviews</th>\n",
       "      <th>duration</th>\n",
       "      <th>director_Facebook_likes</th>\n",
       "      <th>actor_3_Facebook_likes</th>\n",
       "      <th>actor_2_name</th>\n",
       "      <th>Actor_1_Facebook_likes</th>\n",
       "      <th>gross</th>\n",
       "      <th>genres</th>\n",
       "      <th>...</th>\n",
       "      <th>num_user_for_reviews</th>\n",
       "      <th>language</th>\n",
       "      <th>country</th>\n",
       "      <th>content_rating</th>\n",
       "      <th>budget</th>\n",
       "      <th>title_year</th>\n",
       "      <th>actor_2_facebook_likes</th>\n",
       "      <th>imdb_score</th>\n",
       "      <th>aspect_ratio</th>\n",
       "      <th>movie_facebook_likes;</th>\n",
       "    </tr>\n",
       "  </thead>\n",
       "  <tbody>\n",
       "    <tr>\n",
       "      <th>0</th>\n",
       "      <td>Color</td>\n",
       "      <td>James Cameron</td>\n",
       "      <td>723.0</td>\n",
       "      <td>178.0</td>\n",
       "      <td>0.0</td>\n",
       "      <td>855.0</td>\n",
       "      <td>Joel David Moore</td>\n",
       "      <td>1000.0</td>\n",
       "      <td>760505847.0</td>\n",
       "      <td>Action|Adventure|Fantasy|Sci-Fi</td>\n",
       "      <td>...</td>\n",
       "      <td>3054.0</td>\n",
       "      <td>English</td>\n",
       "      <td>USA</td>\n",
       "      <td>PG-13</td>\n",
       "      <td>237000000.0</td>\n",
       "      <td>2009.0</td>\n",
       "      <td>936.0</td>\n",
       "      <td>7.9</td>\n",
       "      <td>1.78</td>\n",
       "      <td>33000;</td>\n",
       "    </tr>\n",
       "    <tr>\n",
       "      <th>1</th>\n",
       "      <td>Colour</td>\n",
       "      <td>Gore Verbinski</td>\n",
       "      <td>302.0</td>\n",
       "      <td>169.0</td>\n",
       "      <td>563.0</td>\n",
       "      <td>1000.0</td>\n",
       "      <td>Orlando Bloom</td>\n",
       "      <td>40000.0</td>\n",
       "      <td>309404152.0</td>\n",
       "      <td>Action|Adventure|Fantasy</td>\n",
       "      <td>...</td>\n",
       "      <td>1238.0</td>\n",
       "      <td>English</td>\n",
       "      <td>USA</td>\n",
       "      <td>PG-13</td>\n",
       "      <td>300000000.0</td>\n",
       "      <td>2007.0</td>\n",
       "      <td>5000.0</td>\n",
       "      <td>7.1</td>\n",
       "      <td>2.35</td>\n",
       "      <td>0;</td>\n",
       "    </tr>\n",
       "    <tr>\n",
       "      <th>2</th>\n",
       "      <td>Colour</td>\n",
       "      <td>Sam Mendes</td>\n",
       "      <td>602.0</td>\n",
       "      <td>148.0</td>\n",
       "      <td>0.0</td>\n",
       "      <td>161.0</td>\n",
       "      <td>Rory Kinnear</td>\n",
       "      <td>11000.0</td>\n",
       "      <td>200074175.0</td>\n",
       "      <td>Action|Adventure|Thriller</td>\n",
       "      <td>...</td>\n",
       "      <td>994.0</td>\n",
       "      <td>English</td>\n",
       "      <td>UK</td>\n",
       "      <td>PG-13</td>\n",
       "      <td>245000000.0</td>\n",
       "      <td>2015.0</td>\n",
       "      <td>393.0</td>\n",
       "      <td>6.8</td>\n",
       "      <td>2.35</td>\n",
       "      <td>85000;</td>\n",
       "    </tr>\n",
       "    <tr>\n",
       "      <th>3</th>\n",
       "      <td>Color</td>\n",
       "      <td>Christopher Nolan</td>\n",
       "      <td>813.0</td>\n",
       "      <td>164.0</td>\n",
       "      <td>22000.0</td>\n",
       "      <td>23000.0</td>\n",
       "      <td>Christian Bale</td>\n",
       "      <td>27000.0</td>\n",
       "      <td>448130642.0</td>\n",
       "      <td>Action|Thriller</td>\n",
       "      <td>...</td>\n",
       "      <td>2701.0</td>\n",
       "      <td>English</td>\n",
       "      <td>USA</td>\n",
       "      <td>PG-13</td>\n",
       "      <td>250000000.0</td>\n",
       "      <td>2012.0</td>\n",
       "      <td>23000.0</td>\n",
       "      <td>8.5</td>\n",
       "      <td>2.35</td>\n",
       "      <td>164000;</td>\n",
       "    </tr>\n",
       "    <tr>\n",
       "      <th>4</th>\n",
       "      <td>NaN</td>\n",
       "      <td>Doug Walker</td>\n",
       "      <td>NaN</td>\n",
       "      <td>NaN</td>\n",
       "      <td>131.0</td>\n",
       "      <td>NaN</td>\n",
       "      <td>Rob Walker</td>\n",
       "      <td>131.0</td>\n",
       "      <td>NaN</td>\n",
       "      <td>Documentary</td>\n",
       "      <td>...</td>\n",
       "      <td>NaN</td>\n",
       "      <td>NaN</td>\n",
       "      <td>NaN</td>\n",
       "      <td>NaN</td>\n",
       "      <td>NaN</td>\n",
       "      <td>NaN</td>\n",
       "      <td>12.0</td>\n",
       "      <td>7.1</td>\n",
       "      <td>NaN</td>\n",
       "      <td>0;</td>\n",
       "    </tr>\n",
       "    <tr>\n",
       "      <th>5</th>\n",
       "      <td>Colour</td>\n",
       "      <td>Andrew Stanton</td>\n",
       "      <td>462.0</td>\n",
       "      <td>132.0</td>\n",
       "      <td>475.0</td>\n",
       "      <td>530.0</td>\n",
       "      <td>Samantha Morton</td>\n",
       "      <td>640.0</td>\n",
       "      <td>73058679.0</td>\n",
       "      <td>Action|Adventure|Sci-Fi</td>\n",
       "      <td>...</td>\n",
       "      <td>738.0</td>\n",
       "      <td>English</td>\n",
       "      <td>USA</td>\n",
       "      <td>PG-13</td>\n",
       "      <td>263700000.0</td>\n",
       "      <td>2012.0</td>\n",
       "      <td>632.0</td>\n",
       "      <td>6.6</td>\n",
       "      <td>2.35</td>\n",
       "      <td>24000;</td>\n",
       "    </tr>\n",
       "    <tr>\n",
       "      <th>6</th>\n",
       "      <td>Color</td>\n",
       "      <td>Sam Raimi</td>\n",
       "      <td>392.0</td>\n",
       "      <td>156.0</td>\n",
       "      <td>0.0</td>\n",
       "      <td>4000.0</td>\n",
       "      <td>James Franco</td>\n",
       "      <td>24000.0</td>\n",
       "      <td>336530303.0</td>\n",
       "      <td>Action|Adventure|Romance</td>\n",
       "      <td>...</td>\n",
       "      <td>1902.0</td>\n",
       "      <td>English</td>\n",
       "      <td>USA</td>\n",
       "      <td>PG-13</td>\n",
       "      <td>258000000.0</td>\n",
       "      <td>2007.0</td>\n",
       "      <td>11000.0</td>\n",
       "      <td>6.2</td>\n",
       "      <td>2.35</td>\n",
       "      <td>0;</td>\n",
       "    </tr>\n",
       "    <tr>\n",
       "      <th>7</th>\n",
       "      <td>Color</td>\n",
       "      <td>Nathan Greno</td>\n",
       "      <td>324.0</td>\n",
       "      <td>100.0</td>\n",
       "      <td>15.0</td>\n",
       "      <td>284.0</td>\n",
       "      <td>Donna Murphy</td>\n",
       "      <td>799.0</td>\n",
       "      <td>200807262.0</td>\n",
       "      <td>Adventure|Animation|Comedy|Family|Fantasy|Musi...</td>\n",
       "      <td>...</td>\n",
       "      <td>387.0</td>\n",
       "      <td>English</td>\n",
       "      <td>USA</td>\n",
       "      <td>PG</td>\n",
       "      <td>260000000.0</td>\n",
       "      <td>2010.0</td>\n",
       "      <td>553.0</td>\n",
       "      <td>7.8</td>\n",
       "      <td>1.85</td>\n",
       "      <td>29000;</td>\n",
       "    </tr>\n",
       "    <tr>\n",
       "      <th>8</th>\n",
       "      <td>Colour</td>\n",
       "      <td>Joss Whedon</td>\n",
       "      <td>635.0</td>\n",
       "      <td>141.0</td>\n",
       "      <td>0.0</td>\n",
       "      <td>19000.0</td>\n",
       "      <td>Robert Downey Jr.</td>\n",
       "      <td>26000.0</td>\n",
       "      <td>458991599.0</td>\n",
       "      <td>Action|Adventure|Sci-Fi</td>\n",
       "      <td>...</td>\n",
       "      <td>1117.0</td>\n",
       "      <td>English</td>\n",
       "      <td>USA</td>\n",
       "      <td>PG-13</td>\n",
       "      <td>250000000.0</td>\n",
       "      <td>2015.0</td>\n",
       "      <td>21000.0</td>\n",
       "      <td>7.5</td>\n",
       "      <td>2.35</td>\n",
       "      <td>118000;</td>\n",
       "    </tr>\n",
       "    <tr>\n",
       "      <th>9</th>\n",
       "      <td>Colour</td>\n",
       "      <td>David Yates</td>\n",
       "      <td>375.0</td>\n",
       "      <td>153.0</td>\n",
       "      <td>282.0</td>\n",
       "      <td>10000.0</td>\n",
       "      <td>Daniel Radcliffe</td>\n",
       "      <td>25000.0</td>\n",
       "      <td>301956980.0</td>\n",
       "      <td>Adventure|Family|Fantasy|Mystery</td>\n",
       "      <td>...</td>\n",
       "      <td>973.0</td>\n",
       "      <td>English</td>\n",
       "      <td>UK</td>\n",
       "      <td>PG</td>\n",
       "      <td>250000000.0</td>\n",
       "      <td>2009.0</td>\n",
       "      <td>11000.0</td>\n",
       "      <td>7.5</td>\n",
       "      <td>2.35</td>\n",
       "      <td>10000;</td>\n",
       "    </tr>\n",
       "  </tbody>\n",
       "</table>\n",
       "<p>10 rows × 28 columns</p>\n",
       "</div>"
      ],
      "text/plain": [
       "    color      Director_Name  num_Critic_for_reviews  duration  \\\n",
       "0   Color      James Cameron                   723.0     178.0   \n",
       "1  Colour     Gore Verbinski                   302.0     169.0   \n",
       "2  Colour         Sam Mendes                   602.0     148.0   \n",
       "3   Color  Christopher Nolan                   813.0     164.0   \n",
       "4     NaN        Doug Walker                     NaN       NaN   \n",
       "5  Colour     Andrew Stanton                   462.0     132.0   \n",
       "6   Color          Sam Raimi                   392.0     156.0   \n",
       "7   Color       Nathan Greno                   324.0     100.0   \n",
       "8  Colour        Joss Whedon                   635.0     141.0   \n",
       "9  Colour        David Yates                   375.0     153.0   \n",
       "\n",
       "   director_Facebook_likes  actor_3_Facebook_likes       actor_2_name  \\\n",
       "0                      0.0                   855.0   Joel David Moore   \n",
       "1                    563.0                  1000.0      Orlando Bloom   \n",
       "2                      0.0                   161.0       Rory Kinnear   \n",
       "3                  22000.0                 23000.0     Christian Bale   \n",
       "4                    131.0                     NaN         Rob Walker   \n",
       "5                    475.0                   530.0    Samantha Morton   \n",
       "6                      0.0                  4000.0       James Franco   \n",
       "7                     15.0                   284.0       Donna Murphy   \n",
       "8                      0.0                 19000.0  Robert Downey Jr.   \n",
       "9                    282.0                 10000.0   Daniel Radcliffe   \n",
       "\n",
       "   Actor_1_Facebook_likes        gross  \\\n",
       "0                  1000.0  760505847.0   \n",
       "1                 40000.0  309404152.0   \n",
       "2                 11000.0  200074175.0   \n",
       "3                 27000.0  448130642.0   \n",
       "4                   131.0          NaN   \n",
       "5                   640.0   73058679.0   \n",
       "6                 24000.0  336530303.0   \n",
       "7                   799.0  200807262.0   \n",
       "8                 26000.0  458991599.0   \n",
       "9                 25000.0  301956980.0   \n",
       "\n",
       "                                              genres  ...  \\\n",
       "0                    Action|Adventure|Fantasy|Sci-Fi  ...   \n",
       "1                           Action|Adventure|Fantasy  ...   \n",
       "2                          Action|Adventure|Thriller  ...   \n",
       "3                                    Action|Thriller  ...   \n",
       "4                                        Documentary  ...   \n",
       "5                            Action|Adventure|Sci-Fi  ...   \n",
       "6                           Action|Adventure|Romance  ...   \n",
       "7  Adventure|Animation|Comedy|Family|Fantasy|Musi...  ...   \n",
       "8                            Action|Adventure|Sci-Fi  ...   \n",
       "9                   Adventure|Family|Fantasy|Mystery  ...   \n",
       "\n",
       "  num_user_for_reviews language  country  content_rating       budget  \\\n",
       "0               3054.0  English      USA           PG-13  237000000.0   \n",
       "1               1238.0  English      USA           PG-13  300000000.0   \n",
       "2                994.0  English       UK           PG-13  245000000.0   \n",
       "3               2701.0  English      USA           PG-13  250000000.0   \n",
       "4                  NaN      NaN      NaN             NaN          NaN   \n",
       "5                738.0  English      USA           PG-13  263700000.0   \n",
       "6               1902.0  English      USA           PG-13  258000000.0   \n",
       "7                387.0  English      USA              PG  260000000.0   \n",
       "8               1117.0  English      USA           PG-13  250000000.0   \n",
       "9                973.0  English       UK              PG  250000000.0   \n",
       "\n",
       "   title_year actor_2_facebook_likes imdb_score  aspect_ratio  \\\n",
       "0      2009.0                  936.0        7.9          1.78   \n",
       "1      2007.0                 5000.0        7.1          2.35   \n",
       "2      2015.0                  393.0        6.8          2.35   \n",
       "3      2012.0                23000.0        8.5          2.35   \n",
       "4         NaN                   12.0        7.1           NaN   \n",
       "5      2012.0                  632.0        6.6          2.35   \n",
       "6      2007.0                11000.0        6.2          2.35   \n",
       "7      2010.0                  553.0        7.8          1.85   \n",
       "8      2015.0                21000.0        7.5          2.35   \n",
       "9      2009.0                11000.0        7.5          2.35   \n",
       "\n",
       "  movie_facebook_likes;  \n",
       "0                33000;  \n",
       "1                    0;  \n",
       "2                85000;  \n",
       "3               164000;  \n",
       "4                    0;  \n",
       "5                24000;  \n",
       "6                    0;  \n",
       "7                29000;  \n",
       "8               118000;  \n",
       "9                10000;  \n",
       "\n",
       "[10 rows x 28 columns]"
      ]
     },
     "execution_count": 86,
     "metadata": {},
     "output_type": "execute_result"
    }
   ],
   "source": [
    "df.head (10)"
   ]
  },
  {
   "cell_type": "markdown",
   "id": "e992bd2c",
   "metadata": {},
   "source": [
    "Получим общую информацию о таблице:"
   ]
  },
  {
   "cell_type": "code",
   "execution_count": 87,
   "id": "3cb60652",
   "metadata": {},
   "outputs": [
    {
     "name": "stdout",
     "output_type": "stream",
     "text": [
      "<class 'pandas.core.frame.DataFrame'>\n",
      "RangeIndex: 5043 entries, 0 to 5042\n",
      "Data columns (total 28 columns):\n",
      " #   Column                      Non-Null Count  Dtype  \n",
      "---  ------                      --------------  -----  \n",
      " 0   color                       5025 non-null   object \n",
      " 1   Director_Name               4872 non-null   object \n",
      " 2   num_Critic_for_reviews      4927 non-null   float64\n",
      " 3   duration                    4959 non-null   float64\n",
      " 4   director_Facebook_likes     4872 non-null   float64\n",
      " 5   actor_3_Facebook_likes      4953 non-null   float64\n",
      " 6   actor_2_name                4963 non-null   object \n",
      " 7   Actor_1_Facebook_likes      4968 non-null   float64\n",
      " 8   gross                       4104 non-null   float64\n",
      " 9   genres                      4974 non-null   object \n",
      " 10  actor_1_name                4968 non-null   object \n",
      " 11  movie_Title                 4974 non-null   object \n",
      " 12  num_voted_users             4974 non-null   float64\n",
      " 13   cast_total_facebook_likes  4974 non-null   float64\n",
      " 14  actor_3_name                4953 non-null   object \n",
      " 15  facenumber_in_poster        4961 non-null   float64\n",
      " 16  plot_keywords               4827 non-null   object \n",
      " 17  movie_imdb_link             4974 non-null   object \n",
      " 18  num_user_for_reviews        4956 non-null   float64\n",
      " 19  language                    4961 non-null   object \n",
      " 20  country                     4971 non-null   object \n",
      " 21  content_rating              4677 non-null   object \n",
      " 22  budget                      4494 non-null   float64\n",
      " 23  title_year                  4869 non-null   float64\n",
      " 24  actor_2_facebook_likes      4963 non-null   float64\n",
      " 25  imdb_score                  4974 non-null   float64\n",
      " 26  aspect_ratio                4654 non-null   float64\n",
      " 27  movie_facebook_likes;       4974 non-null   object \n",
      "dtypes: float64(15), object(13)\n",
      "memory usage: 1.1+ MB\n"
     ]
    }
   ],
   "source": [
    "df.info()"
   ]
  },
  {
   "cell_type": "markdown",
   "id": "adc6d29d",
   "metadata": {},
   "source": [
    "Таблица содержит 28 столбцов, которые хранят разные типы данных (в основном object и float64).<br>\n",
    "Мы видим несколько проблем:<br>\n",
    "1. Некоторые названия столбцов написаны с прописной буквы, некоторые - со строчной.<br>\n",
    "2. В некоторых именах есть пробелы.<br>\n",
    "3. Есть пропуски в данных, т.к. количество в разных столбцах разное."
   ]
  },
  {
   "cell_type": "markdown",
   "id": "4e97ff33",
   "metadata": {},
   "source": [
    "## **Этап 2. Предварительная обработка данных (Data preprocessing)**"
   ]
  },
  {
   "cell_type": "markdown",
   "id": "4f53f95e",
   "metadata": {},
   "source": [
    "### Стили заголовков"
   ]
  },
  {
   "cell_type": "code",
   "execution_count": 88,
   "id": "1b878986",
   "metadata": {},
   "outputs": [
    {
     "data": {
      "text/plain": [
       "Index(['color', 'Director_Name', 'num_Critic_for_reviews', 'duration',\n",
       "       'director_Facebook_likes', 'actor_3_Facebook_likes', 'actor_2_name',\n",
       "       'Actor_1_Facebook_likes', 'gross', 'genres', 'actor_1_name',\n",
       "       'movie_Title', 'num_voted_users', ' cast_total_facebook_likes',\n",
       "       'actor_3_name', 'facenumber_in_poster', 'plot_keywords',\n",
       "       'movie_imdb_link', 'num_user_for_reviews', 'language', 'country',\n",
       "       'content_rating', 'budget', 'title_year', 'actor_2_facebook_likes',\n",
       "       'imdb_score', 'aspect_ratio', 'movie_facebook_likes;'],\n",
       "      dtype='object')"
      ]
     },
     "execution_count": 88,
     "metadata": {},
     "output_type": "execute_result"
    }
   ],
   "source": [
    "df.columns"
   ]
  },
  {
   "cell_type": "code",
   "execution_count": 89,
   "id": "2ee1d656",
   "metadata": {},
   "outputs": [
    {
     "data": {
      "text/plain": [
       "Index(['color', 'director_name', 'num_critic_for_reviews', 'duration',\n",
       "       'director_facebook_likes', 'actor_3_facebook_likes', 'actor_2_name',\n",
       "       'actor_1_facebook_likes', 'gross', 'genres', 'actor_1_name',\n",
       "       'movie_title', 'num_voted_users', 'cast_total_facebook_likes',\n",
       "       'actor_3_name', 'facenumber_in_poster', 'plot_keywords',\n",
       "       'movie_imdb_link', 'num_user_for_reviews', 'language', 'country',\n",
       "       'content_rating', 'budget', 'title_year', 'actor_2_facebook_likes',\n",
       "       'imdb_score', 'aspect_ratio', 'movie_facebook_likes'],\n",
       "      dtype='object')"
      ]
     },
     "execution_count": 89,
     "metadata": {},
     "output_type": "execute_result"
    }
   ],
   "source": [
    "renamed_columns = {}\n",
    "for column in df.columns:\n",
    "    renamed_columns[column] = column.lower().strip()\n",
    "    \n",
    "df = df.rename(columns = renamed_columns)\n",
    "\n",
    "df = df.rename (columns = {'movie_facebook_likes;' : 'movie_facebook_likes'})\n",
    "\n",
    "df.columns\n"
   ]
  },
  {
   "cell_type": "markdown",
   "id": "2fe2597f",
   "metadata": {},
   "source": [
    "### Пропущенные значения"
   ]
  },
  {
   "cell_type": "code",
   "execution_count": 90,
   "id": "ad9a7c3d",
   "metadata": {},
   "outputs": [
    {
     "data": {
      "text/plain": [
       "color                         18\n",
       "director_name                171\n",
       "num_critic_for_reviews       116\n",
       "duration                      84\n",
       "director_facebook_likes      171\n",
       "actor_3_facebook_likes        90\n",
       "actor_2_name                  80\n",
       "actor_1_facebook_likes        75\n",
       "gross                        939\n",
       "genres                        69\n",
       "actor_1_name                  75\n",
       "movie_title                   69\n",
       "num_voted_users               69\n",
       "cast_total_facebook_likes     69\n",
       "actor_3_name                  90\n",
       "facenumber_in_poster          82\n",
       "plot_keywords                216\n",
       "movie_imdb_link               69\n",
       "num_user_for_reviews          87\n",
       "language                      82\n",
       "country                       72\n",
       "content_rating               366\n",
       "budget                       549\n",
       "title_year                   174\n",
       "actor_2_facebook_likes        80\n",
       "imdb_score                    69\n",
       "aspect_ratio                 389\n",
       "movie_facebook_likes          69\n",
       "dtype: int64"
      ]
     },
     "execution_count": 90,
     "metadata": {},
     "output_type": "execute_result"
    }
   ],
   "source": [
    "df.isna().sum()"
   ]
  },
  {
   "cell_type": "markdown",
   "id": "9eccd8a5",
   "metadata": {},
   "source": [
    "В строках с типом object вместо пропущенных значений впишу \"unknown\""
   ]
  },
  {
   "cell_type": "code",
   "execution_count": 91,
   "id": "36fd56bb",
   "metadata": {},
   "outputs": [],
   "source": [
    "columns_to_replace_object =[\n",
    "    'color',\n",
    "    'director_name',\n",
    "    'actor_2_name',\n",
    "    'genres',\n",
    "    'actor_1_name',\n",
    "    'movie_title',\n",
    "    'actor_3_name',\n",
    "    'plot_keywords',\n",
    "    'movie_imdb_link',\n",
    "    'language',\n",
    "    'country',\n",
    "    'content_rating',\n",
    "    'title_year',\n",
    "    'movie_facebook_likes'\n",
    "]\n",
    "\n",
    "for row in columns_to_replace_object:\n",
    "    df[row] = df[row].fillna('unknown')"
   ]
  },
  {
   "cell_type": "markdown",
   "id": "b7de2459",
   "metadata": {},
   "source": [
    "В строках с типом float вместо пропусков запишу среднее по режисеру, если у режиссера одна работа то заполню нулем"
   ]
  },
  {
   "cell_type": "code",
   "execution_count": 92,
   "id": "101f29cf",
   "metadata": {},
   "outputs": [],
   "source": [
    "columns_to_replace_float =[\n",
    "    'num_critic_for_reviews', \n",
    "    'duration',\n",
    "    'director_facebook_likes',\n",
    "    'actor_3_facebook_likes',\n",
    "    'actor_1_facebook_likes',\n",
    "    'gross',\n",
    "    'num_voted_users',\n",
    "    'cast_total_facebook_likes',\n",
    "    'facenumber_in_poster',\n",
    "    'num_user_for_reviews',\n",
    "    'budget',\n",
    "    'actor_2_facebook_likes',\n",
    "    'imdb_score',\n",
    "    'aspect_ratio'\n",
    "]\n",
    "\n",
    "for column in columns_to_replace_float:\n",
    "    group_by_directors=df.groupby(\"director_name\")[column].transform(\"mean\")\n",
    "    df[column]=df[column].fillna(group_by_directors)\n",
    "\n",
    "for column in columns_to_replace_float:\n",
    "    df[column] = df[column].fillna(0)\n"
   ]
  },
  {
   "cell_type": "code",
   "execution_count": 93,
   "id": "adf3df88",
   "metadata": {},
   "outputs": [
    {
     "data": {
      "text/plain": [
       "color                        0\n",
       "director_name                0\n",
       "num_critic_for_reviews       0\n",
       "duration                     0\n",
       "director_facebook_likes      0\n",
       "actor_3_facebook_likes       0\n",
       "actor_2_name                 0\n",
       "actor_1_facebook_likes       0\n",
       "gross                        0\n",
       "genres                       0\n",
       "actor_1_name                 0\n",
       "movie_title                  0\n",
       "num_voted_users              0\n",
       "cast_total_facebook_likes    0\n",
       "actor_3_name                 0\n",
       "facenumber_in_poster         0\n",
       "plot_keywords                0\n",
       "movie_imdb_link              0\n",
       "num_user_for_reviews         0\n",
       "language                     0\n",
       "country                      0\n",
       "content_rating               0\n",
       "budget                       0\n",
       "title_year                   0\n",
       "actor_2_facebook_likes       0\n",
       "imdb_score                   0\n",
       "aspect_ratio                 0\n",
       "movie_facebook_likes         0\n",
       "dtype: int64"
      ]
     },
     "execution_count": 93,
     "metadata": {},
     "output_type": "execute_result"
    }
   ],
   "source": [
    "df.isna().sum()"
   ]
  },
  {
   "cell_type": "markdown",
   "id": "42744f12",
   "metadata": {},
   "source": [
    "### Дубликаты"
   ]
  },
  {
   "cell_type": "markdown",
   "id": "c3964c78",
   "metadata": {},
   "source": [
    "Удаление неявных дубликатов"
   ]
  },
  {
   "cell_type": "code",
   "execution_count": 94,
   "id": "02658c52",
   "metadata": {},
   "outputs": [],
   "source": [
    "def replace_wrong_color (wrong_color, correct_color):\n",
    "    for wrong_color in wrong_color:\n",
    "        df['color'] = df['color'].replace(wrong_color, correct_color)"
   ]
  },
  {
   "cell_type": "code",
   "execution_count": 95,
   "id": "48aca4af",
   "metadata": {},
   "outputs": [],
   "source": [
    "duplicates = []\n",
    "for color in df.color.unique ():\n",
    "    if 'Color' in color or 'Colour' in color or 'color' in color:\n",
    "        duplicates.append(color)\n",
    "name = 'color'\n",
    "replace_wrong_color(duplicates, name)\n",
    "\n",
    "duplicates = []\n",
    "for color in df.color.unique ():\n",
    "    if 'black and white' in color or 'Black and White' in color:\n",
    "        duplicates.append(color)\n",
    "name = 'black and white'\n",
    "replace_wrong_color(duplicates, name)"
   ]
  },
  {
   "cell_type": "code",
   "execution_count": 96,
   "id": "a552a23f",
   "metadata": {},
   "outputs": [
    {
     "data": {
      "text/plain": [
       "array(['color', 'unknown', 'black and white',\n",
       "       ',Christopher Barnard,,22,0,,,5,,Comedy,Mathew Buck,\"10,000 B.C.\\xa0            \",6,5,,0,,http://www.imdb.com/title/tt1869849/?ref_=fn_tt_tt_1,,,,,,,,7.2,,0;'],\n",
       "      dtype=object)"
      ]
     },
     "execution_count": 96,
     "metadata": {},
     "output_type": "execute_result"
    }
   ],
   "source": [
    "df.color.unique()"
   ]
  },
  {
   "cell_type": "markdown",
   "id": "c3c6e00b",
   "metadata": {},
   "source": [
    "Некорректное значение имеет ссылку на определенный цветой фильм, значит можно это одно значение заменить на верное: 'color'."
   ]
  },
  {
   "cell_type": "code",
   "execution_count": 97,
   "id": "56bcfe42",
   "metadata": {},
   "outputs": [],
   "source": [
    "replace_wrong_color([',Christopher Barnard,,22,0,,,5,,Comedy,Mathew Buck,\"10,000 B.C.\\xa0            \",6,5,,0,,http://www.imdb.com/title/tt1869849/?ref_=fn_tt_tt_1,,,,,,,,7.2,,0;'], 'color')"
   ]
  },
  {
   "cell_type": "code",
   "execution_count": 98,
   "id": "dc831b76",
   "metadata": {},
   "outputs": [
    {
     "data": {
      "text/plain": [
       "array(['color', 'unknown', 'black and white'], dtype=object)"
      ]
     },
     "execution_count": 98,
     "metadata": {},
     "output_type": "execute_result"
    }
   ],
   "source": [
    "df.color.unique()"
   ]
  },
  {
   "cell_type": "markdown",
   "id": "26945fdf",
   "metadata": {},
   "source": [
    "Поиск и удаление явных дубликатов"
   ]
  },
  {
   "cell_type": "code",
   "execution_count": 99,
   "id": "1d41a684",
   "metadata": {},
   "outputs": [
    {
     "data": {
      "text/plain": [
       "111"
      ]
     },
     "execution_count": 99,
     "metadata": {},
     "output_type": "execute_result"
    }
   ],
   "source": [
    "df.duplicated().sum()"
   ]
  },
  {
   "cell_type": "code",
   "execution_count": 100,
   "id": "4e05b130",
   "metadata": {},
   "outputs": [
    {
     "data": {
      "text/plain": [
       "0"
      ]
     },
     "execution_count": 100,
     "metadata": {},
     "output_type": "execute_result"
    }
   ],
   "source": [
    "df = df.drop_duplicates().reset_index(drop=True)\n",
    "\n",
    "df.duplicated().sum()"
   ]
  },
  {
   "cell_type": "markdown",
   "id": "df7c6bdc",
   "metadata": {},
   "source": [
    "### Получение реальных значений валовой стоимости и бюджета"
   ]
  },
  {
   "cell_type": "code",
   "execution_count": 101,
   "id": "3fab5d14",
   "metadata": {},
   "outputs": [],
   "source": [
    "from bs4 import BeautifulSoup\n",
    "import requests"
   ]
  },
  {
   "cell_type": "code",
   "execution_count": 102,
   "id": "34e26b2f",
   "metadata": {},
   "outputs": [],
   "source": [
    "from bs4 import BeautifulSoup\n",
    "import requests\n",
    "\n",
    "url=\"http://www.usinflationcalculator.com/inflation/consumer-price-index-and-annual-percent-changes-from-1913-to-2008/\"\n",
    "\n",
    "r=requests.get(url)\n",
    "data=r.text\n",
    "soup=BeautifulSoup(data, 'html.parser')\n",
    "\n",
    "table=soup.find('table')\n",
    "rows=table.tbody.findAll('tr')\n",
    "\n",
    "years=[]\n",
    "cpis=[]\n",
    "\n",
    "for row in rows:\n",
    "    year=row.findAll('td')[0].get_text()\n",
    "    if year.isdigit() and int(year)<2017:\n",
    "        years.append(int(year))\n",
    "        cpis.append(float(row.findAll('td')[13].get_text()))\n",
    "\n",
    "cpi_table=pd.DataFrame({\n",
    "    \"year\":years,\n",
    "    \"avg_annual_cpi\":cpis\n",
    "})\n",
    "\n",
    "cpi_table.head()\n",
    "\n",
    "cpi_table.to_csv(r'C:/Users/AlinaZ/Notebooks/data/Lab1_Zadorozhnaya_CPI.ipynb.csv', index = False) "
   ]
  },
  {
   "cell_type": "code",
   "execution_count": 103,
   "id": "e6d52ca2",
   "metadata": {},
   "outputs": [
    {
     "name": "stderr",
     "output_type": "stream",
     "text": [
      "C:\\Users\\AlinaZ\\AppData\\Local\\Temp\\ipykernel_7372\\2119110932.py:6: FutureWarning: Calling float on a single element Series is deprecated and will raise a TypeError in the future. Use float(ser.iloc[0]) instead\n",
      "  CPI_2016=float(cpi_table[cpi_table['year']==2016]['avg_annual_cpi'])\n"
     ]
    }
   ],
   "source": [
    "def get_real_value(nominal_amt,old_cpi,new_cpi):\n",
    "    real_value=(nominal_amt*new_cpi)/old_cpi\n",
    "    return real_value\n",
    "\n",
    "\n",
    "CPI_2016=float(cpi_table[cpi_table['year']==2016]['avg_annual_cpi'])\n",
    "\n",
    "real_domestic_gross=[]\n",
    "real_budget_values=[]\n",
    "\n",
    "for index,row in df.iterrows():\n",
    "    gross=row['gross']\n",
    "    budget=row['budget']\n",
    "    year=row['title_year']\n",
    "    cpi_series = cpi_table[cpi_table[\"year\"] == year][\"avg_annual_cpi\"].values\n",
    "    if len(cpi_series) > 0:\n",
    "        cpi = cpi_series[0]\n",
    "        real_gross = round(get_real_value(gross, cpi, CPI_2016))\n",
    "        real_budget = round(get_real_value(budget, cpi, CPI_2016))\n",
    "        real_domestic_gross.append(real_gross)\n",
    "        real_budget_values.append(real_budget)\n",
    "    else:\n",
    "        real_domestic_gross.append(-1.0)\n",
    "        real_budget_values.append(-1.0)\n",
    "    \n",
    "df['real_domestic_gross']=real_domestic_gross\n",
    "df['real_budget']=real_budget_values\n",
    "\n",
    "df.to_csv(r'C:/Users/AlinaZ/Notebooks/data/Lab-1_Zadorozhnaya_FIT221.ipynb.csv')"
   ]
  },
  {
   "cell_type": "markdown",
   "id": "ca2b6cf0",
   "metadata": {},
   "source": [
    "### Выводы.<br>\n",
    "Мы столкнулись с тремя проблемами:<br>\n",
    "1. ошибки в написании заголовков;<br>\n",
    "2. пропущенные значения в строках;<br>\n",
    "3. явные и неявные дупликаты;<br>\n",
    "4. неточность данных (сумма доларов).\n",
    "\n",
    "Ошибки исправили. Пропуски строкового типа заполнили \"unknown\", а численного - средним значением по режиссеру. Все дупликаты нашли, неявные исправили, явные удалили."
   ]
  },
  {
   "cell_type": "markdown",
   "id": "9c535d49",
   "metadata": {},
   "source": [
    "## **Этап 3. Проверка гипотез**"
   ]
  },
  {
   "cell_type": "markdown",
   "id": "b72b3da1",
   "metadata": {},
   "source": [
    "### ***Гипотеза 1. Чем больше бюджет, тем выше оценки фильма.***"
   ]
  },
  {
   "cell_type": "code",
   "execution_count": 104,
   "id": "6829075d",
   "metadata": {},
   "outputs": [
    {
     "data": {
      "text/plain": [
       "0.02771002426602772"
      ]
     },
     "execution_count": 104,
     "metadata": {},
     "output_type": "execute_result"
    }
   ],
   "source": [
    "df[\"budget\"].corr(df[\"imdb_score\"])"
   ]
  },
  {
   "cell_type": "markdown",
   "id": "49dc9c09",
   "metadata": {},
   "source": [
    "Корреляция очень мала, близка к нулю, значит между бюджетом и оценками фильма нет никакой взаимосвязи.<br>\n",
    "\n",
    "**Вывод:** гипотеза 1 не подтвердилась"
   ]
  },
  {
   "cell_type": "markdown",
   "id": "edc6be64",
   "metadata": {},
   "source": [
    "### ***Гипотеза 2. У черно-белых фильмов в среднем бюджет меньше чем у цветных.***"
   ]
  },
  {
   "cell_type": "code",
   "execution_count": 105,
   "id": "a20bf1a8",
   "metadata": {},
   "outputs": [
    {
     "data": {
      "text/html": [
       "<div>\n",
       "<style scoped>\n",
       "    .dataframe tbody tr th:only-of-type {\n",
       "        vertical-align: middle;\n",
       "    }\n",
       "\n",
       "    .dataframe tbody tr th {\n",
       "        vertical-align: top;\n",
       "    }\n",
       "\n",
       "    .dataframe thead th {\n",
       "        text-align: right;\n",
       "    }\n",
       "</style>\n",
       "<table border=\"1\" class=\"dataframe\">\n",
       "  <thead>\n",
       "    <tr style=\"text-align: right;\">\n",
       "      <th></th>\n",
       "      <th>budget</th>\n",
       "    </tr>\n",
       "    <tr>\n",
       "      <th>color</th>\n",
       "      <th></th>\n",
       "    </tr>\n",
       "  </thead>\n",
       "  <tbody>\n",
       "    <tr>\n",
       "      <th>color</th>\n",
       "      <td>18000000.0</td>\n",
       "    </tr>\n",
       "    <tr>\n",
       "      <th>unknown</th>\n",
       "      <td>6000000.0</td>\n",
       "    </tr>\n",
       "    <tr>\n",
       "      <th>black and white</th>\n",
       "      <td>4650000.0</td>\n",
       "    </tr>\n",
       "  </tbody>\n",
       "</table>\n",
       "</div>"
      ],
      "text/plain": [
       "                     budget\n",
       "color                      \n",
       "color            18000000.0\n",
       "unknown           6000000.0\n",
       "black and white   4650000.0"
      ]
     },
     "execution_count": 105,
     "metadata": {},
     "output_type": "execute_result"
    }
   ],
   "source": [
    "df_hypothesis_2 = pd.DataFrame(df.groupby('color')['budget'].median()).sort_values(by='budget', ascending=False)\n",
    "\n",
    "df_hypothesis_2.head(10)"
   ]
  },
  {
   "cell_type": "markdown",
   "id": "72bd28df",
   "metadata": {},
   "source": [
    "18000000 > 3775000<br>\n",
    "**Вывод:** гипотеза 2 подтвердилась"
   ]
  },
  {
   "cell_type": "markdown",
   "id": "688fc5ac",
   "metadata": {},
   "source": [
    "### ***Гипотеза 3. Средний рейтинг германских фильмов ниже, чем у киргизских.***"
   ]
  },
  {
   "cell_type": "code",
   "execution_count": 106,
   "id": "7ca149f1",
   "metadata": {},
   "outputs": [
    {
     "data": {
      "text/html": [
       "<div>\n",
       "<style scoped>\n",
       "    .dataframe tbody tr th:only-of-type {\n",
       "        vertical-align: middle;\n",
       "    }\n",
       "\n",
       "    .dataframe tbody tr th {\n",
       "        vertical-align: top;\n",
       "    }\n",
       "\n",
       "    .dataframe thead th {\n",
       "        text-align: right;\n",
       "    }\n",
       "</style>\n",
       "<table border=\"1\" class=\"dataframe\">\n",
       "  <thead>\n",
       "    <tr style=\"text-align: right;\">\n",
       "      <th></th>\n",
       "      <th>imdb_score</th>\n",
       "    </tr>\n",
       "    <tr>\n",
       "      <th>country</th>\n",
       "      <th></th>\n",
       "    </tr>\n",
       "  </thead>\n",
       "  <tbody>\n",
       "    <tr>\n",
       "      <th>Kyrgyzstan</th>\n",
       "      <td>8.700000</td>\n",
       "    </tr>\n",
       "    <tr>\n",
       "      <th>Libya</th>\n",
       "      <td>8.400000</td>\n",
       "    </tr>\n",
       "    <tr>\n",
       "      <th>United Arab Emirates</th>\n",
       "      <td>8.200000</td>\n",
       "    </tr>\n",
       "    <tr>\n",
       "      <th>Egypt</th>\n",
       "      <td>8.100000</td>\n",
       "    </tr>\n",
       "    <tr>\n",
       "      <th>Soviet Union</th>\n",
       "      <td>8.100000</td>\n",
       "    </tr>\n",
       "    <tr>\n",
       "      <th>Iran</th>\n",
       "      <td>7.950000</td>\n",
       "    </tr>\n",
       "    <tr>\n",
       "      <th>Sweden</th>\n",
       "      <td>7.750000</td>\n",
       "    </tr>\n",
       "    <tr>\n",
       "      <th>Brazil</th>\n",
       "      <td>7.700000</td>\n",
       "    </tr>\n",
       "    <tr>\n",
       "      <th>Indonesia</th>\n",
       "      <td>7.600000</td>\n",
       "    </tr>\n",
       "    <tr>\n",
       "      <th>unknown</th>\n",
       "      <td>7.566667</td>\n",
       "    </tr>\n",
       "    <tr>\n",
       "      <th>Argentina</th>\n",
       "      <td>7.550000</td>\n",
       "    </tr>\n",
       "    <tr>\n",
       "      <th>Cameroon</th>\n",
       "      <td>7.500000</td>\n",
       "    </tr>\n",
       "    <tr>\n",
       "      <th>Colombia</th>\n",
       "      <td>7.500000</td>\n",
       "    </tr>\n",
       "    <tr>\n",
       "      <th>Israel</th>\n",
       "      <td>7.450000</td>\n",
       "    </tr>\n",
       "    <tr>\n",
       "      <th>West Germany</th>\n",
       "      <td>7.400000</td>\n",
       "    </tr>\n",
       "    <tr>\n",
       "      <th>Poland</th>\n",
       "      <td>7.400000</td>\n",
       "    </tr>\n",
       "    <tr>\n",
       "      <th>Afghanistan</th>\n",
       "      <td>7.400000</td>\n",
       "    </tr>\n",
       "    <tr>\n",
       "      <th>Kenya</th>\n",
       "      <td>7.400000</td>\n",
       "    </tr>\n",
       "    <tr>\n",
       "      <th>New Zealand</th>\n",
       "      <td>7.300000</td>\n",
       "    </tr>\n",
       "    <tr>\n",
       "      <th>Denmark</th>\n",
       "      <td>7.300000</td>\n",
       "    </tr>\n",
       "    <tr>\n",
       "      <th>Panama</th>\n",
       "      <td>7.200000</td>\n",
       "    </tr>\n",
       "    <tr>\n",
       "      <th>Finland</th>\n",
       "      <td>7.200000</td>\n",
       "    </tr>\n",
       "    <tr>\n",
       "      <th>Czech Republic</th>\n",
       "      <td>7.100000</td>\n",
       "    </tr>\n",
       "    <tr>\n",
       "      <th>Netherlands</th>\n",
       "      <td>7.100000</td>\n",
       "    </tr>\n",
       "    <tr>\n",
       "      <th>UK</th>\n",
       "      <td>7.000000</td>\n",
       "    </tr>\n",
       "    <tr>\n",
       "      <th>Spain</th>\n",
       "      <td>7.000000</td>\n",
       "    </tr>\n",
       "    <tr>\n",
       "      <th>South Korea</th>\n",
       "      <td>7.000000</td>\n",
       "    </tr>\n",
       "    <tr>\n",
       "      <th>Greece</th>\n",
       "      <td>7.000000</td>\n",
       "    </tr>\n",
       "    <tr>\n",
       "      <th>Pakistan</th>\n",
       "      <td>7.000000</td>\n",
       "    </tr>\n",
       "    <tr>\n",
       "      <th>Japan</th>\n",
       "      <td>6.950000</td>\n",
       "    </tr>\n",
       "    <tr>\n",
       "      <th>Chile</th>\n",
       "      <td>6.900000</td>\n",
       "    </tr>\n",
       "    <tr>\n",
       "      <th>Dominican Republic</th>\n",
       "      <td>6.900000</td>\n",
       "    </tr>\n",
       "    <tr>\n",
       "      <th>Italy</th>\n",
       "      <td>6.900000</td>\n",
       "    </tr>\n",
       "    <tr>\n",
       "      <th>India</th>\n",
       "      <td>6.900000</td>\n",
       "    </tr>\n",
       "    <tr>\n",
       "      <th>China</th>\n",
       "      <td>6.900000</td>\n",
       "    </tr>\n",
       "    <tr>\n",
       "      <th>Iceland</th>\n",
       "      <td>6.900000</td>\n",
       "    </tr>\n",
       "    <tr>\n",
       "      <th>Norway</th>\n",
       "      <td>6.850000</td>\n",
       "    </tr>\n",
       "    <tr>\n",
       "      <th>Mexico</th>\n",
       "      <td>6.800000</td>\n",
       "    </tr>\n",
       "    <tr>\n",
       "      <th>Ireland</th>\n",
       "      <td>6.750000</td>\n",
       "    </tr>\n",
       "    <tr>\n",
       "      <th>France</th>\n",
       "      <td>6.700000</td>\n",
       "    </tr>\n",
       "    <tr>\n",
       "      <th>Hong Kong</th>\n",
       "      <td>6.700000</td>\n",
       "    </tr>\n",
       "    <tr>\n",
       "      <th>Romania</th>\n",
       "      <td>6.500000</td>\n",
       "    </tr>\n",
       "    <tr>\n",
       "      <th>Australia</th>\n",
       "      <td>6.500000</td>\n",
       "    </tr>\n",
       "    <tr>\n",
       "      <th>USA</th>\n",
       "      <td>6.500000</td>\n",
       "    </tr>\n",
       "    <tr>\n",
       "      <th>Hungary</th>\n",
       "      <td>6.450000</td>\n",
       "    </tr>\n",
       "    <tr>\n",
       "      <th>Taiwan</th>\n",
       "      <td>6.400000</td>\n",
       "    </tr>\n",
       "    <tr>\n",
       "      <th>Germany</th>\n",
       "      <td>6.400000</td>\n",
       "    </tr>\n",
       "    <tr>\n",
       "      <th>Slovenia</th>\n",
       "      <td>6.400000</td>\n",
       "    </tr>\n",
       "    <tr>\n",
       "      <th>Canada</th>\n",
       "      <td>6.300000</td>\n",
       "    </tr>\n",
       "    <tr>\n",
       "      <th>Official site</th>\n",
       "      <td>6.300000</td>\n",
       "    </tr>\n",
       "  </tbody>\n",
       "</table>\n",
       "</div>"
      ],
      "text/plain": [
       "                      imdb_score\n",
       "country                         \n",
       "Kyrgyzstan              8.700000\n",
       "Libya                   8.400000\n",
       "United Arab Emirates    8.200000\n",
       "Egypt                   8.100000\n",
       "Soviet Union            8.100000\n",
       "Iran                    7.950000\n",
       "Sweden                  7.750000\n",
       "Brazil                  7.700000\n",
       "Indonesia               7.600000\n",
       "unknown                 7.566667\n",
       "Argentina               7.550000\n",
       "Cameroon                7.500000\n",
       "Colombia                7.500000\n",
       "Israel                  7.450000\n",
       "West Germany            7.400000\n",
       "Poland                  7.400000\n",
       "Afghanistan             7.400000\n",
       "Kenya                   7.400000\n",
       "New Zealand             7.300000\n",
       "Denmark                 7.300000\n",
       "Panama                  7.200000\n",
       "Finland                 7.200000\n",
       "Czech Republic          7.100000\n",
       "Netherlands             7.100000\n",
       "UK                      7.000000\n",
       "Spain                   7.000000\n",
       "South Korea             7.000000\n",
       "Greece                  7.000000\n",
       "Pakistan                7.000000\n",
       "Japan                   6.950000\n",
       "Chile                   6.900000\n",
       "Dominican Republic      6.900000\n",
       "Italy                   6.900000\n",
       "India                   6.900000\n",
       "China                   6.900000\n",
       "Iceland                 6.900000\n",
       "Norway                  6.850000\n",
       "Mexico                  6.800000\n",
       "Ireland                 6.750000\n",
       "France                  6.700000\n",
       "Hong Kong               6.700000\n",
       "Romania                 6.500000\n",
       "Australia               6.500000\n",
       "USA                     6.500000\n",
       "Hungary                 6.450000\n",
       "Taiwan                  6.400000\n",
       "Germany                 6.400000\n",
       "Slovenia                6.400000\n",
       "Canada                  6.300000\n",
       "Official site           6.300000"
      ]
     },
     "execution_count": 106,
     "metadata": {},
     "output_type": "execute_result"
    }
   ],
   "source": [
    "df_hypothesis_2 = pd.DataFrame(df.groupby('country')['imdb_score'].median()).sort_values(by='imdb_score', ascending=False)\n",
    "\n",
    "df_hypothesis_2.head(50)"
   ]
  },
  {
   "cell_type": "markdown",
   "id": "0fe482ae",
   "metadata": {},
   "source": [
    "\n",
    "Киргизстан имеет самый высокий рейтинг<br>\n",
    "**Вывод:** гипотеза 3 не подтвердилась."
   ]
  }
 ],
 "metadata": {
  "kernelspec": {
   "display_name": "Python 3 (ipykernel)",
   "language": "python",
   "name": "python3"
  },
  "language_info": {
   "codemirror_mode": {
    "name": "ipython",
    "version": 3
   },
   "file_extension": ".py",
   "mimetype": "text/x-python",
   "name": "python",
   "nbconvert_exporter": "python",
   "pygments_lexer": "ipython3",
   "version": "3.8.2"
  }
 },
 "nbformat": 4,
 "nbformat_minor": 5
}
